{
 "cells": [
  {
   "cell_type": "code",
   "execution_count": 1,
   "metadata": {},
   "outputs": [
    {
     "name": "stdout",
     "output_type": "stream",
     "text": [
      "Collecting binarytree\n",
      "  Downloading https://files.pythonhosted.org/packages/80/cf/09e363df1fbdfbf1413f1c737a7da8ce22559456b3ac520ba3008fef2996/binarytree-5.1.0-py2.py3-none-any.whl\n",
      "Installing collected packages: binarytree\n",
      "Successfully installed binarytree-5.1.0\n"
     ]
    }
   ],
   "source": [
    "!pip install binarytree"
   ]
  },
  {
   "cell_type": "code",
   "execution_count": 3,
   "metadata": {},
   "outputs": [
    {
     "name": "stdout",
     "output_type": "stream",
     "text": [
      "\n",
      "        ______7_______\n",
      "       /              \\\n",
      "    __3__           ___11___\n",
      "   /     \\         /        \\\n",
      "  1       5       9         _13\n",
      " / \\     / \\     / \\       /   \\\n",
      "0   2   4   6   8   10    12    14\n",
      "\n"
     ]
    }
   ],
   "source": [
    "from binarytree import bst\n",
    "\n",
    "my_tree = bst(height=3, is_perfect=True)\n",
    "\n",
    "print(my_tree)"
   ]
  },
  {
   "cell_type": "code",
   "execution_count": 4,
   "metadata": {},
   "outputs": [
    {
     "name": "stdout",
     "output_type": "stream",
     "text": [
      "Node Visited:  A\n",
      "Neighbor of node: A is B\n",
      "Node Visited:  B\n",
      "Neighbor of node: B is C\n",
      "Node Visited:  C\n",
      "Neighbor of node: C is E\n",
      "Node Visited:  E\n",
      "Neighbor of node: E is F\n",
      "Node Visited:  F\n",
      "Neighbor of node: F is B\n",
      "Neighbor of node: B is D\n",
      "Node Visited:  D\n",
      "Neighbor of node: D is E\n",
      "Neighbor of node: D is F\n",
      "Neighbor of node: A is C\n",
      "Neighbor of node: A is D\n"
     ]
    }
   ],
   "source": [
    "Graph = {\n",
    "    'A' : ['B','C','D'],\n",
    "    'B' : ['C','D'],\n",
    "    'C' : ['E'],\n",
    "    'D' : ['E','F'],\n",
    "    'E' : ['F'],\n",
    "    'F' : ['B']\n",
    "}\n",
    "\n",
    "visited = set()\n",
    "\n",
    "def dfs(visited, Graph, node):\n",
    "    if node not in visited:\n",
    "        print('Node Visited: ',node)\n",
    "        visited.add(node)\n",
    "        for neighbour in Graph[node]:\n",
    "            print('Neighbor of node:', node, 'is',neighbour)\n",
    "            dfs(visited, Graph, neighbour)\n",
    "\n",
    "dfs(visited, Graph, 'A')"
   ]
  },
  {
   "cell_type": "code",
   "execution_count": null,
   "metadata": {},
   "outputs": [],
   "source": []
  }
 ],
 "metadata": {
  "kernelspec": {
   "display_name": "Python 3",
   "language": "python",
   "name": "python3"
  },
  "language_info": {
   "codemirror_mode": {
    "name": "ipython",
    "version": 3
   },
   "file_extension": ".py",
   "mimetype": "text/x-python",
   "name": "python",
   "nbconvert_exporter": "python",
   "pygments_lexer": "ipython3",
   "version": "3.7.1"
  }
 },
 "nbformat": 4,
 "nbformat_minor": 2
}
